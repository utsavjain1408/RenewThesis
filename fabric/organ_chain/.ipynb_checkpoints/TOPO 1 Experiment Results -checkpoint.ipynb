{
 "cells": [
  {
   "cell_type": "markdown",
   "metadata": {},
   "source": [
    "# TOPO 1 Matching is done automatically by the blockchain network\n",
    "The matching logic is executed in the chaincode."
   ]
  },
  {
   "cell_type": "markdown",
   "metadata": {},
   "source": [
    "## Setup code"
   ]
  },
  {
   "cell_type": "code",
   "execution_count": 2,
   "metadata": {},
   "outputs": [],
   "source": [
    "#Library Setup\n",
    "from time import clock\n",
    "import sys\n",
    "sys.path.append(\"/home/thesis/ocean/organ-procurement-transplant-network/fabric/organ_chain\")\n",
    "from log_analysis import PeerContainer, get_time, time_to_commit, set_blocks_info\n",
    "#Graphs\n",
    "import matplotlib.pyplot as plt; plt.rcdefaults()\n",
    "import numpy as np\n",
    "import matplotlib.pyplot as plt\n",
    "\n",
    "peer_names=[\"peer0.gp.organ.com\",\n",
    "          \"peer1.gp.organ.com\",\n",
    "           \"peer0.histocompatibility.organ.com\",\n",
    "           \"peer1.histocompatibility.organ.com\",\n",
    "           \"peer0.opo.organ.com\",\n",
    "           \"peer1.opo.organ.com\",\n",
    "           \"peer0.hospital.organ.com\",\n",
    "           \"peer1.hospital.organ.com\"]\n",
    "\n",
    "class TxnTimes:\n",
    "    'This is txn times'\n",
    "    def __init__(self, receive_time = 0, validate_time = 0, commmit_time = 0):\n",
    "        self.receive_time = receive_time\n",
    "        self.validate_time = validate_time\n",
    "        self.commmit_time = commmit_time\n",
    "\n",
    "class Block:\n",
    "    def __init__(self, block_number):\n",
    "        self.__name__ = str(block_number)\n",
    "        self.block_number = block_number\n",
    "        self.peers_times = {}\n",
    "        \n",
    "    def add_peer(self, peer_name, block_receive_time, block_validated_time, block_commited_time, verbose=False):\n",
    "        '''\n",
    "            This involves getting the block receive time, block validated time and the block commit time.\n",
    "        '''\n",
    "\n",
    "        t = TxnTimes(block_receive_time, block_validated_time, block_commited_time)\n",
    "        \n",
    "        self.peers_times[peer_name] = t\n",
    "        if(verbose is True):\n",
    "            print('Adding %s with rt %s, vt %s and ct %s' %(peer_name, block_receive_time, block_validated_time, block_commited_time))\n",
    "        \n",
    "    def get_longest_commit_time():\n",
    "        largest = self.peer.itervalues().next()[2]\n",
    "        for peer_id, time_array in self.peer:\n",
    "            if(time_array[2]):\n",
    "                pass\n",
    "    def print_block_info():\n",
    "        print(\"Block Number %s\" % self.block_number)\n",
    "        print(\"Peer Informa\")\n",
    "    \n",
    "    def get_smallest_commit_time():\n",
    "        pass\n",
    "    \n",
    "    def get_propogation_time(self, peers):\n",
    "        commit_times = []\n",
    "        receive_times = []\n",
    "        for peer in self.peers_times:\n",
    "            commit_times.append(self.peers_times[peer].commmit_time)\n",
    "            receive_times.append(self.peers_times[peer].receive_time)\n",
    "        max_commit_time = max(commit_times)\n",
    "        min_receive_time = min(receive_times)\n",
    "        return(max_commit_time - min_receive_time)\n",
    "\n",
    "def get_propogation_times(log_files):\n",
    "    '''\n",
    "        STEPS:\n",
    "            1. Setup the all_peers {}\n",
    "            2. Extracct receive times\n",
    "            3. Extract validation times\n",
    "            4. Extract commit times\n",
    "            5. Return Propogation times\n",
    "    '''\n",
    "    print(\"Starting STEP 1: Setup the all_peers dict\")\n",
    "    all_peers = {}\n",
    "    for container in peer_names:\n",
    "        \n",
    "        start = clock()\n",
    "        all_peers[container] = PeerContainer(str(container), log_files[container])\n",
    "        set_blocks_info(all_peers[container])\n",
    "        delta = clock() - start\n",
    "        print(\"\\t Set logs for %s in %s Sec\" % (container, delta))\n",
    "        \n",
    "    print(\"Starting Step 2: Extract receive times.\")\n",
    "    \n",
    "    # Adding block received times to the PeerContainer object\n",
    "    start = 0\n",
    "    start = clock()\n",
    "    for peer in peer_names:\n",
    "        l = ((all_peers[peer].find_received_block()))\n",
    "#         print('\\tThere are %s Recevied Lines in %s' % (len(l), peer))\n",
    "        number_of_blocks = len(l)\n",
    "        for line in l:\n",
    "            pattern = 'Received block ['\n",
    "            start = line['log'].find(pattern)\n",
    "            if start == -1:\n",
    "                continue\n",
    "            x = line['log'][start + len(pattern):]\n",
    "            end = x.find(']')\n",
    "            if end == -1:\n",
    "                continue\n",
    "            block_number = x[:end]\n",
    "            time = get_time(line)\n",
    "            all_peers[peer].block_times[int(block_number)] = [time]\n",
    "    delta = clock() - start\n",
    "    print(\"\\t Done Extracting Receive Times in %s Sec\" % (delta))\n",
    "    print(\"Stating Step 3: Extract validation times.\")\n",
    "    start = 0\n",
    "    start = clock()\n",
    "    for peer in peer_names:\n",
    "        l = ((all_peers[peer].find_validated_block()))\n",
    "#         print('\\tThere are %s Validated Lines in %s' % (len(l), peer))\n",
    "        number_of_blocks = len(l)\n",
    "        for line in l:\n",
    "            pattern = 'Validated block ['\n",
    "            start = line['log'].find(pattern)\n",
    "            if start == -1:\n",
    "                continue\n",
    "            x = line['log'][start + len(pattern):]\n",
    "            end = x.find(']')\n",
    "            if end == -1:\n",
    "                continue\n",
    "            block_number = x[:end]\n",
    "            time = get_time(line)\n",
    "            try:\n",
    "                all_peers[peer].block_times[int(block_number)].append(time)\n",
    "            except:\n",
    "                pass\n",
    "    #         print('%s block was Validated at %s by peer %s' % (block_number, time, all_peers[peer].name))\n",
    "    delta = clock() - start\n",
    "    print(\"\\t Done Extracting Validation Times in %s Sec\" % (delta))\n",
    "    print(\"Stating Step 4: Extract commit times.\")\n",
    "    start = 0\n",
    "    start = clock()\n",
    "    for peer in peer_names:\n",
    "        l = ((all_peers[peer].find_commited_block()))\n",
    "#         print('\\tThere are %s Committed Line %s' % (len(l), peer))\n",
    "        number_of_blocks = len(l)\n",
    "        for line in l:\n",
    "            pattern = 'Committed block ['\n",
    "            start = line['log'].find(pattern)\n",
    "            if start == -1:\n",
    "                continue\n",
    "            x = line['log'][start + len(pattern):]\n",
    "            end = x.find(']')\n",
    "            if end == -1:\n",
    "                continue\n",
    "            block_number = x[:end]\n",
    "            time = get_time(line)\n",
    "            try:\n",
    "                all_peers[peer].block_times[int(block_number)].append(time)\n",
    "            except:\n",
    "                pass\n",
    "    delta = clock() - start\n",
    "    print(\"\\t Done Extracting Validation Times in %s Sec\" % (delta))\n",
    "    print(\"Starting Step 5: Return Propogation Time\")\n",
    "    blocks = {}\n",
    "    # print(all_peers)\n",
    "    for j, peer in enumerate(all_peers):\n",
    "        print(\"\\t Processing %s\" % peer)\n",
    "    #     print(all_peers[peer].block_times)\n",
    "    #     print(len(all_peers[peer].block_times))\n",
    "        for i in range(1, len(all_peers[peer].block_times)):\n",
    "            rt = all_peers[peer].block_times[i][0]\n",
    "            vt = all_peers[peer].block_times[i][1]\n",
    "            ct = all_peers[peer].block_times[i][2]\n",
    "    #         print(\"rt %s; vt %s; ct %s\"% (rt, vt, ct))\n",
    "            if i not in blocks:\n",
    "                blocks[i] = Block(i)\n",
    "            blocks[i].add_peer(all_peers[peer].name, rt, vt, ct)\n",
    "#         print(all_peers[peer].name)\n",
    "\n",
    "    propogation_times = []\n",
    "    for i in range(1, len(blocks)):\n",
    "#         print('Propogation Time of %s is %s' % (i, blocks[i].get_propogation_time(all_peers[peer])))\n",
    "        propogation_times.append(blocks[i].get_propogation_time(all_peers[peer]).total_seconds())\n",
    "    print(\"Done\")\n",
    "    return(propogation_times)"
   ]
  },
  {
   "cell_type": "markdown",
   "metadata": {},
   "source": [
    "# Experiment 1"
   ]
  },
  {
   "cell_type": "code",
   "execution_count": 3,
   "metadata": {},
   "outputs": [],
   "source": [
    "experiment1Results = []"
   ]
  },
  {
   "cell_type": "code",
   "execution_count": 4,
   "metadata": {
    "scrolled": true
   },
   "outputs": [
    {
     "name": "stdout",
     "output_type": "stream",
     "text": [
      "Starting STEP 1: Setup the all_peers dict\n",
      "\t Set logs for peer0.gp.organ.com in 0.014724 Sec\n",
      "\t Set logs for peer1.gp.organ.com in 0.012514 Sec\n",
      "\t Set logs for peer0.histocompatibility.organ.com in 0.010987 Sec\n",
      "\t Set logs for peer1.histocompatibility.organ.com in 0.012079 Sec\n",
      "\t Set logs for peer0.opo.organ.com in 0.014372 Sec\n",
      "\t Set logs for peer1.opo.organ.com in 0.014031 Sec\n",
      "\t Set logs for peer0.hospital.organ.com in 0.011241 Sec\n",
      "\t Set logs for peer1.hospital.organ.com in 0.011592 Sec\n",
      "Starting Step 2: Extract receive times.\n",
      "\t Done Extracting Receive Times in -91.948257 Sec\n",
      "Stating Step 3: Extract validation times.\n",
      "\t Done Extracting Validation Times in -95.725335 Sec\n",
      "Stating Step 4: Extract commit times.\n",
      "\t Done Extracting Validation Times in -91.479338 Sec\n",
      "Starting Step 5: Return Propogation Time\n",
      "\t Processing peer0.histocompatibility.organ.com\n",
      "\t Processing peer1.histocompatibility.organ.com\n",
      "\t Processing peer1.opo.organ.com\n",
      "\t Processing peer0.gp.organ.com\n",
      "\t Processing peer0.hospital.organ.com\n",
      "\t Processing peer0.opo.organ.com\n",
      "\t Processing peer1.hospital.organ.com\n",
      "\t Processing peer1.gp.organ.com\n",
      "Done\n"
     ]
    }
   ],
   "source": [
    "#Experiment 1 Effect of Time Out Duration\n",
    "log_files = {}\n",
    "base = \"/home/thesis/ocean/organ-procurement-transplant-network/fabric/organ_chain/TOPO1/Experiment 1/logs_1_2_5s\"\n",
    "for container in peer_names:\n",
    "    log_files[container] = ('%s/%s.log'%(base,container))\n",
    "# print log_files\n",
    "propogation_time = get_propogation_times(log_files)\n",
    "experiment1Results.append(propogation_time)"
   ]
  },
  {
   "cell_type": "code",
   "execution_count": 6,
   "metadata": {
    "scrolled": true
   },
   "outputs": [
    {
     "name": "stdout",
     "output_type": "stream",
     "text": [
      "Starting STEP 1: Setup the all_peers dict\n",
      "\t Set logs for peer0.gp.organ.com in 0.013637 Sec\n",
      "\t Set logs for peer1.gp.organ.com in 0.011756 Sec\n",
      "\t Set logs for peer0.histocompatibility.organ.com in 0.014616 Sec\n",
      "\t Set logs for peer1.histocompatibility.organ.com in 0.012922 Sec\n",
      "\t Set logs for peer0.opo.organ.com in 0.011161 Sec\n",
      "\t Set logs for peer1.opo.organ.com in 0.011059 Sec\n",
      "\t Set logs for peer0.hospital.organ.com in 0.013476 Sec\n",
      "\t Set logs for peer1.hospital.organ.com in 0.009885 Sec\n",
      "Starting Step 2: Extract receive times.\n",
      "\t Done Extracting Receive Times in -90.169792 Sec\n",
      "Stating Step 3: Extract validation times.\n",
      "\t Done Extracting Validation Times in -93.941386 Sec\n",
      "Stating Step 4: Extract commit times.\n",
      "\t Done Extracting Validation Times in -89.680726 Sec\n",
      "Starting Step 5: Return Propogation Time\n",
      "\t Processing peer0.histocompatibility.organ.com\n",
      "\t Processing peer1.histocompatibility.organ.com\n",
      "\t Processing peer1.opo.organ.com\n",
      "\t Processing peer0.gp.organ.com\n",
      "\t Processing peer0.hospital.organ.com\n",
      "\t Processing peer0.opo.organ.com\n",
      "\t Processing peer1.hospital.organ.com\n",
      "\t Processing peer1.gp.organ.com\n",
      "Done\n"
     ]
    }
   ],
   "source": [
    "#Experiment 1.1 Batch Time Out of 5 sec with transaction rate of \n",
    "log_files = {}\n",
    "base = \"/home/thesis/ocean/organ-procurement-transplant-network/fabric/organ_chain/TOPO1/Experiment 1/logs_2_2_5s\"\n",
    "for container in peer_names:\n",
    "    log_files[container] = ('%s/%s.log'%(base,container))\n",
    "# print log_files\n",
    "propogation_time = get_propogation_times(log_files)\n",
    "experiment1Results.append(propogation_time)"
   ]
  },
  {
   "cell_type": "code",
   "execution_count": 7,
   "metadata": {
    "scrolled": true
   },
   "outputs": [
    {
     "name": "stdout",
     "output_type": "stream",
     "text": [
      "Starting STEP 1: Setup the all_peers dict\n",
      "\t Set logs for peer0.gp.organ.com in 0.010217 Sec\n",
      "\t Set logs for peer1.gp.organ.com in 0.012728 Sec\n",
      "\t Set logs for peer0.histocompatibility.organ.com in 0.012463 Sec\n",
      "\t Set logs for peer1.histocompatibility.organ.com in 0.010664 Sec\n",
      "\t Set logs for peer0.opo.organ.com in 0.0129 Sec\n",
      "\t Set logs for peer1.opo.organ.com in 0.01002 Sec\n",
      "\t Set logs for peer0.hospital.organ.com in 0.011454 Sec\n",
      "\t Set logs for peer1.hospital.organ.com in 0.011744 Sec\n",
      "Starting Step 2: Extract receive times.\n",
      "\t Done Extracting Receive Times in -89.306549 Sec\n",
      "Stating Step 3: Extract validation times.\n",
      "\t Done Extracting Validation Times in -93.084755 Sec\n",
      "Stating Step 4: Extract commit times.\n",
      "\t Done Extracting Validation Times in -88.790749 Sec\n",
      "Starting Step 5: Return Propogation Time\n",
      "\t Processing peer0.histocompatibility.organ.com\n",
      "\t Processing peer1.histocompatibility.organ.com\n",
      "\t Processing peer1.opo.organ.com\n",
      "\t Processing peer0.gp.organ.com\n",
      "\t Processing peer0.hospital.organ.com\n",
      "\t Processing peer0.opo.organ.com\n",
      "\t Processing peer1.hospital.organ.com\n",
      "\t Processing peer1.gp.organ.com\n",
      "Done\n"
     ]
    }
   ],
   "source": [
    "#Experiment 1.3 Batch Time Out of 5 sec with transaction rate of\n",
    "log_files = {}\n",
    "base = \"/home/thesis/ocean/organ-procurement-transplant-network/fabric/organ_chain/TOPO1/Experiment 1/logs_2s\"\n",
    "for container in peer_names:\n",
    "    log_files[container] = ('%s/%s.log'%(base,container))\n",
    "# print log_files\n",
    "propogation_time = get_propogation_times(log_files)\n",
    "experiment1Results.append(propogation_time)"
   ]
  },
  {
   "cell_type": "code",
   "execution_count": 8,
   "metadata": {
    "scrolled": true
   },
   "outputs": [
    {
     "name": "stdout",
     "output_type": "stream",
     "text": [
      "Starting STEP 1: Setup the all_peers dict\n",
      "\t Set logs for peer0.gp.organ.com in 0.007973 Sec\n",
      "\t Set logs for peer1.gp.organ.com in 0.007217 Sec\n",
      "\t Set logs for peer0.histocompatibility.organ.com in 0.008212 Sec\n",
      "\t Set logs for peer1.histocompatibility.organ.com in 0.006695 Sec\n",
      "\t Set logs for peer0.opo.organ.com in 0.00869 Sec\n",
      "\t Set logs for peer1.opo.organ.com in 0.006428 Sec\n",
      "\t Set logs for peer0.hospital.organ.com in 0.010943 Sec\n",
      "\t Set logs for peer1.hospital.organ.com in 0.008104 Sec\n",
      "Starting Step 2: Extract receive times.\n",
      "\t Done Extracting Receive Times in -88.569586 Sec\n",
      "Stating Step 3: Extract validation times.\n",
      "\t Done Extracting Validation Times in -92.410752 Sec\n",
      "Stating Step 4: Extract commit times.\n",
      "\t Done Extracting Validation Times in -88.256757 Sec\n",
      "Starting Step 5: Return Propogation Time\n",
      "\t Processing peer0.histocompatibility.organ.com\n",
      "\t Processing peer1.histocompatibility.organ.com\n",
      "\t Processing peer1.opo.organ.com\n",
      "\t Processing peer0.gp.organ.com\n",
      "\t Processing peer0.hospital.organ.com\n",
      "\t Processing peer0.opo.organ.com\n",
      "\t Processing peer1.hospital.organ.com\n",
      "\t Processing peer1.gp.organ.com\n",
      "Done\n"
     ]
    }
   ],
   "source": [
    "#Experiment 1.4 Batch Time Out of 5 sec with transaction rate of\n",
    "log_files = {}\n",
    "base = \"/home/thesis/ocean/organ-procurement-transplant-network/fabric/organ_chain/TOPO1/Experiment 1/logs_5s\"\n",
    "for container in peer_names:\n",
    "    log_files[container] = ('%s/%s.log'%(base,container))\n",
    "# print log_files\n",
    "propogation_time = get_propogation_times(log_files)\n",
    "experiment1Results.append(propogation_time)"
   ]
  },
  {
   "cell_type": "markdown",
   "metadata": {},
   "source": [
    "# Experiment 2"
   ]
  },
  {
   "cell_type": "markdown",
   "metadata": {},
   "source": [
    "Experiment 2 \n",
    "Steps\n",
    "1. Read the log files for each peer\n",
    "2. Extract Lines\n",
    "    2.1 Received Lines\n",
    "    2.2 Validated Lines\n",
    "    2.3 Commited Lines\n",
    "3. Find the propogation time \n",
    "4. Make graphs\n"
   ]
  },
  {
   "cell_type": "code",
   "execution_count": 9,
   "metadata": {},
   "outputs": [],
   "source": [
    "experiment2Results =[]"
   ]
  },
  {
   "cell_type": "code",
   "execution_count": 10,
   "metadata": {
    "scrolled": true
   },
   "outputs": [
    {
     "name": "stdout",
     "output_type": "stream",
     "text": [
      "Starting STEP 1: Setup the all_peers dict\n",
      "\t Set logs for peer0.gp.organ.com in 8.881478 Sec\n",
      "\t Set logs for peer1.gp.organ.com in 8.911438 Sec\n",
      "\t Set logs for peer0.histocompatibility.organ.com in 8.475806 Sec\n",
      "\t Set logs for peer1.histocompatibility.organ.com in 8.728559 Sec\n",
      "\t Set logs for peer0.opo.organ.com in 9.066643 Sec\n",
      "\t Set logs for peer1.opo.organ.com in 7.685701 Sec\n",
      "\t Set logs for peer0.hospital.organ.com in 7.482658 Sec\n",
      "\t Set logs for peer1.hospital.organ.com in 7.076898 Sec\n",
      "Starting Step 2: Extract receive times.\n",
      "\t Done Extracting Receive Times in -19.460415 Sec\n",
      "Stating Step 3: Extract validation times.\n",
      "\t Done Extracting Validation Times in 82.39962 Sec\n",
      "Stating Step 4: Extract commit times.\n",
      "\t Done Extracting Validation Times in -8.123698 Sec\n",
      "Starting Step 5: Return Propogation Time\n",
      "\t Processing peer0.histocompatibility.organ.com\n",
      "\t Processing peer1.histocompatibility.organ.com\n",
      "\t Processing peer1.opo.organ.com\n",
      "\t Processing peer0.gp.organ.com\n",
      "\t Processing peer0.hospital.organ.com\n",
      "\t Processing peer0.opo.organ.com\n",
      "\t Processing peer1.hospital.organ.com\n",
      "\t Processing peer1.gp.organ.com\n",
      "Done\n"
     ]
    }
   ],
   "source": [
    "#Experiment 2.1\n",
    "log_files = {}\n",
    "base = \"/home/thesis/ocean/organ-procurement-transplant-network/fabric/organ_chain/TOPO1/Experiment 2 (Abs Max Bytes)/logs_2_1\"\n",
    "for container in peer_names:\n",
    "    log_files[container] = ('%s/%s.log'%(base,container))\n",
    "# print log_files\n",
    "propogation_time = get_propogation_times(log_files)\n",
    "experiment2Results.append(propogation_time)"
   ]
  },
  {
   "cell_type": "code",
   "execution_count": 11,
   "metadata": {
    "scrolled": true
   },
   "outputs": [
    {
     "name": "stdout",
     "output_type": "stream",
     "text": [
      "Starting STEP 1: Setup the all_peers dict\n",
      "\t Set logs for peer0.gp.organ.com in 6.396189 Sec\n",
      "\t Set logs for peer1.gp.organ.com in 7.287907 Sec\n",
      "\t Set logs for peer0.histocompatibility.organ.com in 6.863106 Sec\n",
      "\t Set logs for peer1.histocompatibility.organ.com in 5.913846 Sec\n",
      "\t Set logs for peer0.opo.organ.com in 6.71953 Sec\n",
      "\t Set logs for peer1.opo.organ.com in 6.066476 Sec\n",
      "\t Set logs for peer0.hospital.organ.com in 6.164907 Sec\n",
      "\t Set logs for peer1.hospital.organ.com in 7.476402 Sec\n",
      "Starting Step 2: Extract receive times.\n",
      "\t Done Extracting Receive Times in 51.208089 Sec\n",
      "Stating Step 3: Extract validation times.\n",
      "\t Done Extracting Validation Times in 154.447887 Sec\n",
      "Stating Step 4: Extract commit times.\n",
      "\t Done Extracting Validation Times in 64.896289 Sec\n",
      "Starting Step 5: Return Propogation Time\n",
      "\t Processing peer0.histocompatibility.organ.com\n",
      "\t Processing peer1.histocompatibility.organ.com\n",
      "\t Processing peer1.opo.organ.com\n",
      "\t Processing peer0.gp.organ.com\n",
      "\t Processing peer0.hospital.organ.com\n",
      "\t Processing peer0.opo.organ.com\n",
      "\t Processing peer1.hospital.organ.com\n",
      "\t Processing peer1.gp.organ.com\n",
      "Done\n"
     ]
    }
   ],
   "source": [
    "#Experiment 2.2\n",
    "log_files = {}\n",
    "base = \"/home/thesis/ocean/organ-procurement-transplant-network/fabric/organ_chain/TOPO1/Experiment 2 (Abs Max Bytes)/logs_2_2\"\n",
    "for container in peer_names:\n",
    "    log_files[container] = ('%s/%s.log'%(base,container))\n",
    "# print log_files\n",
    "propogation_time = get_propogation_times(log_files)\n",
    "experiment2Results.append(propogation_time)"
   ]
  },
  {
   "cell_type": "code",
   "execution_count": 12,
   "metadata": {
    "scrolled": true
   },
   "outputs": [
    {
     "name": "stdout",
     "output_type": "stream",
     "text": [
      "Starting STEP 1: Setup the all_peers dict\n",
      "\t Set logs for peer0.gp.organ.com in 6.932295 Sec\n",
      "\t Set logs for peer1.gp.organ.com in 7.09915 Sec\n",
      "\t Set logs for peer0.histocompatibility.organ.com in 6.349768 Sec\n",
      "\t Set logs for peer1.histocompatibility.organ.com in 5.980099 Sec\n",
      "\t Set logs for peer0.opo.organ.com in 6.216152 Sec\n",
      "\t Set logs for peer1.opo.organ.com in 7.140416 Sec\n",
      "\t Set logs for peer0.hospital.organ.com in 6.434623 Sec\n",
      "\t Set logs for peer1.hospital.organ.com in 7.971717 Sec\n",
      "Starting Step 2: Extract receive times.\n",
      "\t Done Extracting Receive Times in 125.389528 Sec\n",
      "Stating Step 3: Extract validation times.\n",
      "\t Done Extracting Validation Times in 227.884039 Sec\n",
      "Stating Step 4: Extract commit times.\n",
      "\t Done Extracting Validation Times in 139.027009 Sec\n",
      "Starting Step 5: Return Propogation Time\n",
      "\t Processing peer0.histocompatibility.organ.com\n",
      "\t Processing peer1.histocompatibility.organ.com\n",
      "\t Processing peer1.opo.organ.com\n",
      "\t Processing peer0.gp.organ.com\n",
      "\t Processing peer0.hospital.organ.com\n",
      "\t Processing peer0.opo.organ.com\n",
      "\t Processing peer1.hospital.organ.com\n",
      "\t Processing peer1.gp.organ.com\n",
      "Done\n"
     ]
    }
   ],
   "source": [
    "#Experiment 2.3\n",
    "log_files = {}\n",
    "base = \"/home/thesis/ocean/organ-procurement-transplant-network/fabric/organ_chain/TOPO1/Experiment 2 (Abs Max Bytes)/logs_2_3\"\n",
    "for container in peer_names:\n",
    "    log_files[container] = ('%s/%s.log'%(base,container))\n",
    "# print log_files\n",
    "propogation_time = get_propogation_times(log_files)\n",
    "experiment2Results.append(propogation_time)"
   ]
  },
  {
   "cell_type": "code",
   "execution_count": 13,
   "metadata": {
    "scrolled": true
   },
   "outputs": [
    {
     "name": "stdout",
     "output_type": "stream",
     "text": [
      "Starting STEP 1: Setup the all_peers dict\n",
      "\t Set logs for peer0.gp.organ.com in 9.007095 Sec\n",
      "\t Set logs for peer1.gp.organ.com in 7.342448 Sec\n",
      "\t Set logs for peer0.histocompatibility.organ.com in 8.171404 Sec\n",
      "\t Set logs for peer1.histocompatibility.organ.com in 9.275268 Sec\n",
      "\t Set logs for peer0.opo.organ.com in 8.503963 Sec\n",
      "\t Set logs for peer1.opo.organ.com in 8.704597 Sec\n",
      "\t Set logs for peer0.hospital.organ.com in 8.685503 Sec\n",
      "\t Set logs for peer1.hospital.organ.com in 8.466632 Sec\n",
      "Starting Step 2: Extract receive times.\n",
      "\t Done Extracting Receive Times in 216.928459 Sec\n",
      "Stating Step 3: Extract validation times.\n",
      "\t Done Extracting Validation Times in 222.911773 Sec\n",
      "Stating Step 4: Extract commit times.\n",
      "\t Done Extracting Validation Times in 240.162935 Sec\n",
      "Starting Step 5: Return Propogation Time\n",
      "\t Processing peer0.histocompatibility.organ.com\n",
      "\t Processing peer1.histocompatibility.organ.com\n",
      "\t Processing peer1.opo.organ.com\n",
      "\t Processing peer0.gp.organ.com\n",
      "\t Processing peer0.hospital.organ.com\n",
      "\t Processing peer0.opo.organ.com\n",
      "\t Processing peer1.hospital.organ.com\n",
      "\t Processing peer1.gp.organ.com\n",
      "Done\n"
     ]
    }
   ],
   "source": [
    "#Experiment 2.4\n",
    "log_files = {}\n",
    "base = \"/home/thesis/ocean/organ-procurement-transplant-network/fabric/organ_chain/TOPO1/Experiment 2 (Abs Max Bytes)/logs_2_4\"\n",
    "for container in peer_names:\n",
    "    log_files[container] = ('%s/%s.log'%(base,container))\n",
    "# print log_files\n",
    "propogation_time = get_propogation_times(log_files)\n",
    "experiment2Results.append(propogation_time)"
   ]
  },
  {
   "cell_type": "markdown",
   "metadata": {},
   "source": [
    "# Experiment 3"
   ]
  },
  {
   "cell_type": "code",
   "execution_count": 14,
   "metadata": {},
   "outputs": [],
   "source": [
    "experiment3Results =[]"
   ]
  },
  {
   "cell_type": "code",
   "execution_count": 15,
   "metadata": {
    "scrolled": true
   },
   "outputs": [
    {
     "name": "stdout",
     "output_type": "stream",
     "text": [
      "Starting STEP 1: Setup the all_peers dict\n",
      "\t Set logs for peer0.gp.organ.com in 9.520984 Sec\n",
      "\t Set logs for peer1.gp.organ.com in 11.058946 Sec\n",
      "\t Set logs for peer0.histocompatibility.organ.com in 11.759241 Sec\n",
      "\t Set logs for peer1.histocompatibility.organ.com in 9.840899 Sec\n",
      "\t Set logs for peer0.opo.organ.com in 9.28421 Sec\n",
      "\t Set logs for peer1.opo.organ.com in 9.86761 Sec\n",
      "\t Set logs for peer0.hospital.organ.com in 12.35756 Sec\n",
      "\t Set logs for peer1.hospital.organ.com in 12.17538 Sec\n",
      "Starting Step 2: Extract receive times.\n",
      "\t Done Extracting Receive Times in 341.030705 Sec\n",
      "Stating Step 3: Extract validation times.\n",
      "\t Done Extracting Validation Times in 455.115268 Sec\n",
      "Stating Step 4: Extract commit times.\n",
      "\t Done Extracting Validation Times in 376.895339 Sec\n",
      "Starting Step 5: Return Propogation Time\n",
      "\t Processing peer0.histocompatibility.organ.com\n",
      "\t Processing peer1.histocompatibility.organ.com\n",
      "\t Processing peer1.opo.organ.com\n",
      "\t Processing peer0.gp.organ.com\n",
      "\t Processing peer0.hospital.organ.com\n",
      "\t Processing peer0.opo.organ.com\n",
      "\t Processing peer1.hospital.organ.com\n",
      "\t Processing peer1.gp.organ.com\n",
      "Done\n",
      "The length of propogation time is 59\n"
     ]
    }
   ],
   "source": [
    "#Experiment 3.1\n",
    "log_files = {}\n",
    "base = \"/home/thesis/ocean/organ-procurement-transplant-network/fabric/organ_chain/TOPO1/Experiment 3 (Endorsement Policy)/logs_3_1\"\n",
    "for container in peer_names:\n",
    "    log_files[container] = ('%s/%s.log'%(base,container))\n",
    "# print log_files\n",
    "propogation_time = get_propogation_times(log_files)\n",
    "print(\"The length of propogation time is %s\" % len(propogation_time))\n",
    "experiment3Results.append(propogation_time)"
   ]
  },
  {
   "cell_type": "code",
   "execution_count": 16,
   "metadata": {
    "scrolled": true
   },
   "outputs": [
    {
     "name": "stdout",
     "output_type": "stream",
     "text": [
      "Starting STEP 1: Setup the all_peers dict\n",
      "\t Set logs for peer0.gp.organ.com in 10.146402 Sec\n",
      "\t Set logs for peer1.gp.organ.com in 11.135914 Sec\n",
      "\t Set logs for peer0.histocompatibility.organ.com in 10.596361 Sec\n",
      "\t Set logs for peer1.histocompatibility.organ.com in 10.367273 Sec\n",
      "\t Set logs for peer0.opo.organ.com in 10.340251 Sec\n",
      "\t Set logs for peer1.opo.organ.com in 10.544094 Sec\n",
      "\t Set logs for peer0.hospital.organ.com in 15.175971 Sec\n",
      "\t Set logs for peer1.hospital.organ.com in 15.801978 Sec\n",
      "Starting Step 2: Extract receive times.\n",
      "\t Done Extracting Receive Times in 493.348523 Sec\n",
      "Stating Step 3: Extract validation times.\n",
      "\t Done Extracting Validation Times in 613.751509 Sec\n",
      "Stating Step 4: Extract commit times.\n",
      "\t Done Extracting Validation Times in 537.252631 Sec\n",
      "Starting Step 5: Return Propogation Time\n",
      "\t Processing peer0.histocompatibility.organ.com\n",
      "\t Processing peer1.histocompatibility.organ.com\n",
      "\t Processing peer1.opo.organ.com\n",
      "\t Processing peer0.gp.organ.com\n",
      "\t Processing peer0.hospital.organ.com\n",
      "\t Processing peer0.opo.organ.com\n",
      "\t Processing peer1.hospital.organ.com\n",
      "\t Processing peer1.gp.organ.com\n",
      "Done\n",
      "The length of propogation time is 63\n"
     ]
    }
   ],
   "source": [
    "#Experiment 3.2\n",
    "log_files = {}\n",
    "base = \"/home/thesis/ocean/organ-procurement-transplant-network/fabric/organ_chain/TOPO1/Experiment 3 (Endorsement Policy)/logs_3_2\"\n",
    "for container in peer_names:\n",
    "    log_files[container] = ('%s/%s.log'%(base,container))\n",
    "# print log_files\n",
    "propogation_time = get_propogation_times(log_files)\n",
    "print(\"The length of propogation time is %s\" % len(propogation_time))\n",
    "experiment3Results.append(propogation_time)"
   ]
  },
  {
   "cell_type": "code",
   "execution_count": 17,
   "metadata": {
    "scrolled": true
   },
   "outputs": [
    {
     "name": "stdout",
     "output_type": "stream",
     "text": [
      "Starting STEP 1: Setup the all_peers dict\n",
      "\t Set logs for peer0.gp.organ.com in 9.140206 Sec\n",
      "\t Set logs for peer1.gp.organ.com in 8.348816 Sec\n",
      "\t Set logs for peer0.histocompatibility.organ.com in 10.020582 Sec\n",
      "\t Set logs for peer1.histocompatibility.organ.com in 10.013609 Sec\n",
      "\t Set logs for peer0.opo.organ.com in 10.222969 Sec\n",
      "\t Set logs for peer1.opo.organ.com in 9.420029 Sec\n",
      "\t Set logs for peer0.hospital.organ.com in 12.775091 Sec\n",
      "\t Set logs for peer1.hospital.organ.com in 10.227709 Sec\n",
      "Starting Step 2: Extract receive times.\n",
      "\t Done Extracting Receive Times in 636.621249 Sec\n",
      "Stating Step 3: Extract validation times.\n",
      "\t Done Extracting Validation Times in 752.861738 Sec\n",
      "Stating Step 4: Extract commit times.\n",
      "\t Done Extracting Validation Times in 680.260679 Sec\n",
      "Starting Step 5: Return Propogation Time\n",
      "\t Processing peer0.histocompatibility.organ.com\n",
      "\t Processing peer1.histocompatibility.organ.com\n",
      "\t Processing peer1.opo.organ.com\n",
      "\t Processing peer0.gp.organ.com\n",
      "\t Processing peer0.hospital.organ.com\n",
      "\t Processing peer0.opo.organ.com\n",
      "\t Processing peer1.hospital.organ.com\n",
      "\t Processing peer1.gp.organ.com\n",
      "Done\n",
      "The length of propogation time is 63\n"
     ]
    }
   ],
   "source": [
    "#Experiment 3.3\n",
    "log_files = {}\n",
    "base = \"/home/thesis/ocean/organ-procurement-transplant-network/fabric/organ_chain/TOPO1/Experiment 3 (Endorsement Policy)/logs_3_3\"\n",
    "for container in peer_names:\n",
    "    log_files[container] = ('%s/%s.log'%(base,container))\n",
    "# print log_files\n",
    "propogation_time = get_propogation_times(log_files)\n",
    "print(\"The length of propogation time is %s\" % len(propogation_time))\n",
    "experiment3Results.append(propogation_time)"
   ]
  },
  {
   "cell_type": "code",
   "execution_count": 18,
   "metadata": {
    "scrolled": true
   },
   "outputs": [
    {
     "name": "stdout",
     "output_type": "stream",
     "text": [
      "Starting STEP 1: Setup the all_peers dict\n",
      "\t Set logs for peer0.gp.organ.com in 0.0130830000001 Sec\n",
      "\t Set logs for peer1.gp.organ.com in 0.00995799999998 Sec\n",
      "\t Set logs for peer0.histocompatibility.organ.com in 0.010312 Sec\n",
      "\t Set logs for peer1.histocompatibility.organ.com in 0.010029 Sec\n",
      "\t Set logs for peer0.opo.organ.com in 0.010736 Sec\n",
      "\t Set logs for peer1.opo.organ.com in 0.024418 Sec\n",
      "\t Set logs for peer0.hospital.organ.com in 0.015617 Sec\n",
      "\t Set logs for peer1.hospital.organ.com in 0.00961500000005 Sec\n",
      "Starting Step 2: Extract receive times.\n",
      "\t Done Extracting Receive Times in 694.301586 Sec\n",
      "Stating Step 3: Extract validation times.\n",
      "\t Done Extracting Validation Times in 690.528355 Sec\n",
      "Stating Step 4: Extract commit times.\n",
      "\t Done Extracting Validation Times in 694.776202 Sec\n",
      "Starting Step 5: Return Propogation Time\n",
      "\t Processing peer0.histocompatibility.organ.com\n",
      "\t Processing peer1.histocompatibility.organ.com\n",
      "\t Processing peer1.opo.organ.com\n",
      "\t Processing peer0.gp.organ.com\n",
      "\t Processing peer0.hospital.organ.com\n",
      "\t Processing peer0.opo.organ.com\n",
      "\t Processing peer1.hospital.organ.com\n",
      "\t Processing peer1.gp.organ.com\n",
      "Done\n",
      "The length of propogation time is 61\n"
     ]
    }
   ],
   "source": [
    "#Experiment 3.4\n",
    "log_files = {}\n",
    "base = \"/home/thesis/ocean/organ-procurement-transplant-network/fabric/organ_chain/TOPO1/Experiment 3 (Endorsement Policy)/logs_3_4\"\n",
    "for container in peer_names:\n",
    "    log_files[container] = ('%s/%s.log'%(base,container))\n",
    "# print log_files\n",
    "propogation_time = get_propogation_times(log_files)\n",
    "print(\"The length of propogation time is %s\" % len(propogation_time))\n",
    "experiment3Results.append(propogation_time)"
   ]
  },
  {
   "cell_type": "markdown",
   "metadata": {},
   "source": [
    "# Experiment 4"
   ]
  },
  {
   "cell_type": "code",
   "execution_count": 19,
   "metadata": {},
   "outputs": [],
   "source": [
    "experiment4Results = []"
   ]
  },
  {
   "cell_type": "code",
   "execution_count": 20,
   "metadata": {
    "scrolled": true
   },
   "outputs": [
    {
     "name": "stdout",
     "output_type": "stream",
     "text": [
      "Starting STEP 1: Setup the all_peers dict\n",
      "\t Set logs for peer0.gp.organ.com in 0.016977 Sec\n",
      "\t Set logs for peer1.gp.organ.com in 0.012413 Sec\n",
      "\t Set logs for peer0.histocompatibility.organ.com in 0.011124 Sec\n",
      "\t Set logs for peer1.histocompatibility.organ.com in 0.00958200000002 Sec\n",
      "\t Set logs for peer0.opo.organ.com in 0.018102 Sec\n",
      "\t Set logs for peer1.opo.organ.com in 0.018057 Sec\n",
      "\t Set logs for peer0.hospital.organ.com in 0.0119870000001 Sec\n",
      "\t Set logs for peer1.hospital.organ.com in 0.011855 Sec\n",
      "Starting Step 2: Extract receive times.\n",
      "\t Done Extracting Receive Times in 695.18306 Sec\n",
      "Stating Step 3: Extract validation times.\n",
      "\t Done Extracting Validation Times in 691.408391 Sec\n",
      "Stating Step 4: Extract commit times.\n",
      "\t Done Extracting Validation Times in 695.642268 Sec\n",
      "Starting Step 5: Return Propogation Time\n",
      "\t Processing peer0.histocompatibility.organ.com\n",
      "\t Processing peer1.histocompatibility.organ.com\n",
      "\t Processing peer1.opo.organ.com\n",
      "\t Processing peer0.gp.organ.com\n",
      "\t Processing peer0.hospital.organ.com\n",
      "\t Processing peer0.opo.organ.com\n",
      "\t Processing peer1.hospital.organ.com\n",
      "\t Processing peer1.gp.organ.com\n",
      "Done\n",
      "The length of propogation time is 60\n"
     ]
    }
   ],
   "source": [
    "#Experiment 4.1\n",
    "log_files = {}\n",
    "base = \"/home/thesis/ocean/organ-procurement-transplant-network/fabric/organ_chain/TOPO1/Experiment 4 (Transaction Rate)/logs_4_1\"\n",
    "for container in peer_names:\n",
    "    log_files[container] = ('%s/%s.log'%(base,container))\n",
    "# print log_files\n",
    "propogation_time = get_propogation_times(log_files)\n",
    "print(\"The length of propogation time is %s\" % len(propogation_time))\n",
    "experiment4Results.append(propogation_time)"
   ]
  },
  {
   "cell_type": "code",
   "execution_count": 21,
   "metadata": {
    "scrolled": true
   },
   "outputs": [
    {
     "name": "stdout",
     "output_type": "stream",
     "text": [
      "Starting STEP 1: Setup the all_peers dict\n",
      "\t Set logs for peer0.gp.organ.com in 0.014032 Sec\n",
      "\t Set logs for peer1.gp.organ.com in 0.0129890000001 Sec\n",
      "\t Set logs for peer0.histocompatibility.organ.com in 0.013683 Sec\n",
      "\t Set logs for peer1.histocompatibility.organ.com in 0.0111350000001 Sec\n",
      "\t Set logs for peer0.opo.organ.com in 0.0129509999999 Sec\n",
      "\t Set logs for peer1.opo.organ.com in 0.0108729999999 Sec\n",
      "\t Set logs for peer0.hospital.organ.com in 0.011577 Sec\n",
      "\t Set logs for peer1.hospital.organ.com in 0.00961399999994 Sec\n",
      "Starting Step 2: Extract receive times.\n",
      "\t Done Extracting Receive Times in 696.039319 Sec\n",
      "Stating Step 3: Extract validation times.\n",
      "\t Done Extracting Validation Times in 692.278191 Sec\n",
      "Stating Step 4: Extract commit times.\n",
      "\t Done Extracting Validation Times in 696.524344 Sec\n",
      "Starting Step 5: Return Propogation Time\n",
      "\t Processing peer0.histocompatibility.organ.com\n",
      "\t Processing peer1.histocompatibility.organ.com\n",
      "\t Processing peer1.opo.organ.com\n",
      "\t Processing peer0.gp.organ.com\n",
      "\t Processing peer0.hospital.organ.com\n",
      "\t Processing peer0.opo.organ.com\n",
      "\t Processing peer1.hospital.organ.com\n",
      "\t Processing peer1.gp.organ.com\n",
      "Done\n",
      "The length of propogation time is 63\n"
     ]
    }
   ],
   "source": [
    "#Experiment 4.2\n",
    "log_files = {}\n",
    "base = \"/home/thesis/ocean/organ-procurement-transplant-network/fabric/organ_chain/TOPO1/Experiment 4 (Transaction Rate)/logs_4_2\"\n",
    "for container in peer_names:\n",
    "    log_files[container] = ('%s/%s.log'%(base,container))\n",
    "# print log_files\n",
    "propogation_time = get_propogation_times(log_files)\n",
    "print(\"The length of propogation time is %s\" % len(propogation_time))\n",
    "experiment4Results.append(propogation_time)"
   ]
  },
  {
   "cell_type": "code",
   "execution_count": 22,
   "metadata": {
    "scrolled": true
   },
   "outputs": [
    {
     "name": "stdout",
     "output_type": "stream",
     "text": [
      "Starting STEP 1: Setup the all_peers dict\n",
      "\t Set logs for peer0.gp.organ.com in 0.015638 Sec\n",
      "\t Set logs for peer1.gp.organ.com in 0.012172 Sec\n",
      "\t Set logs for peer0.histocompatibility.organ.com in 0.012953 Sec\n",
      "\t Set logs for peer1.histocompatibility.organ.com in 0.012981 Sec\n",
      "\t Set logs for peer0.opo.organ.com in 0.013454 Sec\n",
      "\t Set logs for peer1.opo.organ.com in 0.0112290000001 Sec\n",
      "\t Set logs for peer0.hospital.organ.com in 0.011797 Sec\n",
      "\t Set logs for peer1.hospital.organ.com in 0.010161 Sec\n",
      "Starting Step 2: Extract receive times.\n",
      "\t Done Extracting Receive Times in 696.905593 Sec\n",
      "Stating Step 3: Extract validation times.\n",
      "\t Done Extracting Validation Times in 693.13308 Sec\n",
      "Stating Step 4: Extract commit times.\n",
      "\t Done Extracting Validation Times in 697.395976 Sec\n",
      "Starting Step 5: Return Propogation Time\n",
      "\t Processing peer0.histocompatibility.organ.com\n",
      "\t Processing peer1.histocompatibility.organ.com\n",
      "\t Processing peer1.opo.organ.com\n",
      "\t Processing peer0.gp.organ.com\n",
      "\t Processing peer0.hospital.organ.com\n",
      "\t Processing peer0.opo.organ.com\n",
      "\t Processing peer1.hospital.organ.com\n",
      "\t Processing peer1.gp.organ.com\n",
      "Done\n",
      "The length of propogation time is 63\n"
     ]
    }
   ],
   "source": [
    "#Experiment 4.3\n",
    "log_files = {}\n",
    "base = \"/home/thesis/ocean/organ-procurement-transplant-network/fabric/organ_chain/TOPO1/Experiment 4 (Transaction Rate)/logs_4_3\"\n",
    "for container in peer_names:\n",
    "    log_files[container] = ('%s/%s.log'%(base,container))\n",
    "# print log_files\n",
    "propogation_time = get_propogation_times(log_files)\n",
    "print(\"The length of propogation time is %s\" % len(propogation_time))\n",
    "experiment4Results.append(propogation_time)"
   ]
  },
  {
   "cell_type": "code",
   "execution_count": 23,
   "metadata": {
    "scrolled": true
   },
   "outputs": [
    {
     "name": "stdout",
     "output_type": "stream",
     "text": [
      "Starting STEP 1: Setup the all_peers dict\n",
      "\t Set logs for peer0.gp.organ.com in 0.014046 Sec\n",
      "\t Set logs for peer1.gp.organ.com in 0.011602 Sec\n",
      "\t Set logs for peer0.histocompatibility.organ.com in 0.01211 Sec\n",
      "\t Set logs for peer1.histocompatibility.organ.com in 0.01211 Sec\n",
      "\t Set logs for peer0.opo.organ.com in 0.013237 Sec\n",
      "\t Set logs for peer1.opo.organ.com in 0.011208 Sec\n",
      "\t Set logs for peer0.hospital.organ.com in 0.0100699999999 Sec\n",
      "\t Set logs for peer1.hospital.organ.com in 0.010946 Sec\n",
      "Starting Step 2: Extract receive times.\n",
      "\t Done Extracting Receive Times in 697.772741 Sec\n",
      "Stating Step 3: Extract validation times.\n",
      "\t Done Extracting Validation Times in 693.999798 Sec\n",
      "Stating Step 4: Extract commit times.\n",
      "\t Done Extracting Validation Times in 698.263187 Sec\n",
      "Starting Step 5: Return Propogation Time\n",
      "\t Processing peer0.histocompatibility.organ.com\n",
      "\t Processing peer1.histocompatibility.organ.com\n",
      "\t Processing peer1.opo.organ.com\n",
      "\t Processing peer0.gp.organ.com\n",
      "\t Processing peer0.hospital.organ.com\n",
      "\t Processing peer0.opo.organ.com\n",
      "\t Processing peer1.hospital.organ.com\n",
      "\t Processing peer1.gp.organ.com\n",
      "Done\n",
      "The length of propogation time is 63\n"
     ]
    }
   ],
   "source": [
    "#Experiment 4.4\n",
    "log_files = {}\n",
    "base = \"/home/thesis/ocean/organ-procurement-transplant-network/fabric/organ_chain/TOPO1/Experiment 4 (Transaction Rate)/logs_4_4\"\n",
    "for container in peer_names:\n",
    "    log_files[container] = ('%s/%s.log'%(base,container))\n",
    "# print log_files\n",
    "propogation_time = get_propogation_times(log_files)\n",
    "print(\"The length of propogation time is %s\" % len(propogation_time))\n",
    "experiment4Results.append(propogation_time)"
   ]
  },
  {
   "cell_type": "markdown",
   "metadata": {},
   "source": []
  },
  {
   "cell_type": "code",
   "execution_count": 30,
   "metadata": {
    "scrolled": true
   },
   "outputs": [
    {
     "name": "stdout",
     "output_type": "stream",
     "text": [
      "There are 63 Blocks\n"
     ]
    },
    {
     "data": {
      "image/png": "[encoded data removed]",
      "text/plain": [
       "<Figure size 1296x360 with 1 Axes>"
      ]
     },
     "metadata": {
      "needs_background": "light"
     },
     "output_type": "display_data"
    },
    {
     "name": "stdout",
     "output_type": "stream",
     "text": [
      "There are 63 Blocks\n"
     ]
    },
    {
     "data": {
      "image/png": "[encoded data removed]",
      "text/plain": [
       "<Figure size 1296x360 with 1 Axes>"
      ]
     },
     "metadata": {
      "needs_background": "light"
     },
     "output_type": "display_data"
    },
    {
     "name": "stdout",
     "output_type": "stream",
     "text": [
      "There are 63 Blocks\n"
     ]
    },
    {
     "data": {
      "image/png": "[encoded data removed]",
      "text/plain": [
       "<Figure size 1296x360 with 1 Axes>"
      ]
     },
     "metadata": {
      "needs_background": "light"
     },
     "output_type": "display_data"
    },
    {
     "name": "stdout",
     "output_type": "stream",
     "text": [
      "There are 63 Blocks\n"
     ]
    },
    {
     "data": {
      "image/png": "[encoded data removed]",
      "text/plain": [
       "<Figure size 1296x360 with 1 Axes>"
      ]
     },
     "metadata": {
      "needs_background": "light"
     },
     "output_type": "display_data"
    }
   ],
   "source": [
    "for j in range(1, 5):\n",
    "    blocks = []\n",
    "    print(\"There are %s Blocks\"%len(experiment1Results[j-1]))\n",
    "    for i in range(len(experiment1Results[j-1])):\n",
    "        blocks.append(str(i))\n",
    "\n",
    "    propogation_time= experiment1Results[j-1]\n",
    "    y_pos = np.arange(len(propogation_time))\n",
    "    # performance = [10,8,6,4,2,1]\n",
    "    plt.subplots(figsize=(18,5))\n",
    "    plt.bar(y_pos, propogation_time, width=.8, align='center', alpha=0.5 )\n",
    "    plt.xticks(y_pos, blocks)\n",
    "    plt.ylabel('Time in seconds (s)')\n",
    "    plt.xlabel('Blocks')\n",
    "    plt.title('Experiment 1.%s'% j)\n",
    "\n",
    "    plt.show()"
   ]
  },
  {
   "cell_type": "markdown",
   "metadata": {},
   "source": []
  },
  {
   "cell_type": "code",
   "execution_count": 31,
   "metadata": {
    "scrolled": true
   },
   "outputs": [
    {
     "name": "stdout",
     "output_type": "stream",
     "text": [
      "There are 61 Blocks\n"
     ]
    },
    {
     "data": {
      "image/png": "[encoded data removed]",
      "text/plain": [
       "<Figure size 1296x360 with 1 Axes>"
      ]
     },
     "metadata": {
      "needs_background": "light"
     },
     "output_type": "display_data"
    },
    {
     "name": "stdout",
     "output_type": "stream",
     "text": [
      "There are 63 Blocks\n"
     ]
    },
    {
     "data": {
      "image/png": "[encoded data removed]",
      "text/plain": [
       "<Figure size 1296x360 with 1 Axes>"
      ]
     },
     "metadata": {
      "needs_background": "light"
     },
     "output_type": "display_data"
    },
    {
     "name": "stdout",
     "output_type": "stream",
     "text": [
      "There are 61 Blocks\n"
     ]
    },
    {
     "data": {
      "image/png": "[encoded data removed]",
      "text/plain": [
       "<Figure size 1296x360 with 1 Axes>"
      ]
     },
     "metadata": {
      "needs_background": "light"
     },
     "output_type": "display_data"
    },
    {
     "name": "stdout",
     "output_type": "stream",
     "text": [
      "There are 61 Blocks\n"
     ]
    },
    {
     "data": {
      "image/png": "[encoded data removed]",
      "text/plain": [
       "<Figure size 1296x360 with 1 Axes>"
      ]
     },
     "metadata": {
      "needs_background": "light"
     },
     "output_type": "display_data"
    }
   ],
   "source": [
    "for j in range(1, 5):\n",
    "    blocks = []\n",
    "    print(\"There are %s Blocks\"%len(experiment2Results[j-1]))\n",
    "    for i in range(len(experiment2Results[j-1])):\n",
    "        blocks.append(str(i))\n",
    "\n",
    "    propogation_time= experiment2Results[j-1]\n",
    "    y_pos = np.arange(len(propogation_time))\n",
    "    # performance = [10,8,6,4,2,1]\n",
    "    plt.subplots(figsize=(18,5))\n",
    "    plt.bar(y_pos, propogation_time, width=.8, align='center', alpha=0.5 )\n",
    "    plt.xticks(y_pos, blocks)\n",
    "    plt.ylabel('Time in seconds (s)')\n",
    "    plt.xlabel('Blocks')\n",
    "    plt.title('Experiment 2.%s'% j)\n",
    "\n",
    "    plt.show()"
   ]
  },
  {
   "cell_type": "markdown",
   "metadata": {},
   "source": []
  },
  {
   "cell_type": "code",
   "execution_count": 32,
   "metadata": {
    "scrolled": true
   },
   "outputs": [
    {
     "name": "stdout",
     "output_type": "stream",
     "text": [
      "There are 59 Blocks\n"
     ]
    },
    {
     "data": {
      "image/png": "[encoded data removed]",
      "text/plain": [
       "<Figure size 1296x360 with 1 Axes>"
      ]
     },
     "metadata": {
      "needs_background": "light"
     },
     "output_type": "display_data"
    },
    {
     "name": "stdout",
     "output_type": "stream",
     "text": [
      "There are 63 Blocks\n"
     ]
    },
    {
     "data": {
      "image/png": "[encoded data removed]",
      "text/plain": [
       "<Figure size 1296x360 with 1 Axes>"
      ]
     },
     "metadata": {
      "needs_background": "light"
     },
     "output_type": "display_data"
    },
    {
     "name": "stdout",
     "output_type": "stream",
     "text": [
      "There are 63 Blocks\n"
     ]
    },
    {
     "data": {
      "image/png": "[encoded data removed]",
      "text/plain": [
       "<Figure size 1296x360 with 1 Axes>"
      ]
     },
     "metadata": {
      "needs_background": "light"
     },
     "output_type": "display_data"
    },
    {
     "name": "stdout",
     "output_type": "stream",
     "text": [
      "There are 61 Blocks\n"
     ]
    },
    {
     "data": {
      "image/png": "[encoded data removed]",
      "text/plain": [
       "<Figure size 1296x360 with 1 Axes>"
      ]
     },
     "metadata": {
      "needs_background": "light"
     },
     "output_type": "display_data"
    }
   ],
   "source": [
    "for j in range(1, 5):\n",
    "    blocks = []\n",
    "    print(\"There are %s Blocks\"%len(experiment3Results[j-1]))\n",
    "    for i in range(len(experiment3Results[j-1])):\n",
    "        blocks.append(str(i))\n",
    "\n",
    "    propogation_time= experiment3Results[j-1]\n",
    "    y_pos = np.arange(len(propogation_time))\n",
    "    # performance = [10,8,6,4,2,1]\n",
    "    plt.subplots(figsize=(18,5))\n",
    "    plt.bar(y_pos, propogation_time, width=.8, align='center', alpha=0.5 )\n",
    "    plt.xticks(y_pos, blocks)\n",
    "    plt.ylabel('Time in seconds (s)')\n",
    "    plt.xlabel('Blocks')\n",
    "    plt.title('Experiment 3.%s'% j)\n",
    "\n",
    "    plt.show()"
   ]
  },
  {
   "cell_type": "markdown",
   "metadata": {},
   "source": []
  },
  {
   "cell_type": "code",
   "execution_count": 33,
   "metadata": {
    "scrolled": true
   },
   "outputs": [
    {
     "name": "stdout",
     "output_type": "stream",
     "text": [
      "There are 60 Blocks\n"
     ]
    },
    {
     "data": {
      "image/png": "[encoded data removed]",
      "text/plain": [
       "<Figure size 1296x360 with 1 Axes>"
      ]
     },
     "metadata": {
      "needs_background": "light"
     },
     "output_type": "display_data"
    },
    {
     "name": "stdout",
     "output_type": "stream",
     "text": [
      "There are 63 Blocks\n"
     ]
    },
    {
     "data": {
      "image/png": "[encoded data removed]",
      "text/plain": [
       "<Figure size 1296x360 with 1 Axes>"
      ]
     },
     "metadata": {
      "needs_background": "light"
     },
     "output_type": "display_data"
    },
    {
     "name": "stdout",
     "output_type": "stream",
     "text": [
      "There are 63 Blocks\n"
     ]
    },
    {
     "data": {
      "image/png": "[encoded data removed]",
      "text/plain": [
       "<Figure size 1296x360 with 1 Axes>"
      ]
     },
     "metadata": {
      "needs_background": "light"
     },
     "output_type": "display_data"
    },
    {
     "name": "stdout",
     "output_type": "stream",
     "text": [
      "There are 63 Blocks\n"
     ]
    },
    {
     "data": {
      "image/png": "[encoded data removed]",
      "text/plain": [
       "<Figure size 1296x360 with 1 Axes>"
      ]
     },
     "metadata": {
      "needs_background": "light"
     },
     "output_type": "display_data"
    }
   ],
   "source": [
    "for j in range(1, 5):\n",
    "    blocks = []\n",
    "    print(\"There are %s Blocks\"%len(experiment4Results[j-1]))\n",
    "    for i in range(len(experiment4Results[j-1])):\n",
    "        blocks.append(str(i))\n",
    "\n",
    "    propogation_time= experiment4Results[j-1]\n",
    "    y_pos = np.arange(len(propogation_time))\n",
    "    plt.subplots(figsize=(18,5))\n",
    "    plt.bar(y_pos, propogation_time, width=.8, align='center', alpha=0.5 )\n",
    "    plt.xticks(y_pos, blocks)\n",
    "    plt.ylabel('Time in seconds (s)')\n",
    "    plt.xlabel('Blocks')\n",
    "    plt.title('Experiment 4.%s '% j)\n",
    "\n",
    "    plt.show()"
   ]
  },
  {
   "cell_type": "code",
   "execution_count": null,
   "metadata": {},
   "outputs": [],
   "source": []
  }
 ],
 "metadata": {
  "kernelspec": {
   "display_name": "Python 2",
   "language": "python",
   "name": "python2"
  },
  "language_info": {
   "codemirror_mode": {
    "name": "ipython",
    "version": 2
   },
   "file_extension": ".py",
   "mimetype": "text/x-python",
   "name": "python",
   "nbconvert_exporter": "python",
   "pygments_lexer": "ipython2",
   "version": "2.7.15"
  }
 },
 "nbformat": 4,
 "nbformat_minor": 2
}
